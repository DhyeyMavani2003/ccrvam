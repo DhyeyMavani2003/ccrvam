{
 "cells": [
  {
   "cell_type": "code",
   "execution_count": 1,
   "metadata": {
    "colab": {
     "base_uri": "https://localhost:8080/"
    },
    "id": "JRypjJ_arYE1",
    "outputId": "082b82e7-032b-4455-8499-b11b232d257c"
   },
   "outputs": [
    {
     "name": "stdout",
     "output_type": "stream",
     "text": [
      "Requirement already satisfied: ccrvam in /Users/dhyeymavani/.pyenv/versions/3.13.0/lib/python3.13/site-packages (0.8.2)\n",
      "Requirement already satisfied: numpy in /Users/dhyeymavani/.pyenv/versions/3.13.0/lib/python3.13/site-packages (from ccrvam) (2.2.3)\n",
      "Requirement already satisfied: pandas in /Users/dhyeymavani/.pyenv/versions/3.13.0/lib/python3.13/site-packages (from ccrvam) (2.2.3)\n",
      "Requirement already satisfied: pytest in /Users/dhyeymavani/.pyenv/versions/3.13.0/lib/python3.13/site-packages (from ccrvam) (8.3.5)\n",
      "Requirement already satisfied: coverage in /Users/dhyeymavani/.pyenv/versions/3.13.0/lib/python3.13/site-packages (from ccrvam) (7.6.12)\n",
      "Requirement already satisfied: scipy in /Users/dhyeymavani/.pyenv/versions/3.13.0/lib/python3.13/site-packages (from ccrvam) (1.15.2)\n",
      "Requirement already satisfied: matplotlib in /Users/dhyeymavani/.pyenv/versions/3.13.0/lib/python3.13/site-packages (from ccrvam) (3.10.1)\n",
      "Requirement already satisfied: seaborn in /Users/dhyeymavani/.pyenv/versions/3.13.0/lib/python3.13/site-packages (from ccrvam) (0.13.2)\n",
      "Requirement already satisfied: contourpy>=1.0.1 in /Users/dhyeymavani/.pyenv/versions/3.13.0/lib/python3.13/site-packages (from matplotlib->ccrvam) (1.3.1)\n",
      "Requirement already satisfied: cycler>=0.10 in /Users/dhyeymavani/.pyenv/versions/3.13.0/lib/python3.13/site-packages (from matplotlib->ccrvam) (0.12.1)\n",
      "Requirement already satisfied: fonttools>=4.22.0 in /Users/dhyeymavani/.pyenv/versions/3.13.0/lib/python3.13/site-packages (from matplotlib->ccrvam) (4.56.0)\n",
      "Requirement already satisfied: kiwisolver>=1.3.1 in /Users/dhyeymavani/.pyenv/versions/3.13.0/lib/python3.13/site-packages (from matplotlib->ccrvam) (1.4.8)\n",
      "Requirement already satisfied: packaging>=20.0 in /Users/dhyeymavani/.pyenv/versions/3.13.0/lib/python3.13/site-packages (from matplotlib->ccrvam) (24.2)\n",
      "Requirement already satisfied: pillow>=8 in /Users/dhyeymavani/.pyenv/versions/3.13.0/lib/python3.13/site-packages (from matplotlib->ccrvam) (11.1.0)\n",
      "Requirement already satisfied: pyparsing>=2.3.1 in /Users/dhyeymavani/.pyenv/versions/3.13.0/lib/python3.13/site-packages (from matplotlib->ccrvam) (3.2.1)\n",
      "Requirement already satisfied: python-dateutil>=2.7 in /Users/dhyeymavani/.pyenv/versions/3.13.0/lib/python3.13/site-packages (from matplotlib->ccrvam) (2.9.0.post0)\n",
      "Requirement already satisfied: pytz>=2020.1 in /Users/dhyeymavani/.pyenv/versions/3.13.0/lib/python3.13/site-packages (from pandas->ccrvam) (2025.1)\n",
      "Requirement already satisfied: tzdata>=2022.7 in /Users/dhyeymavani/.pyenv/versions/3.13.0/lib/python3.13/site-packages (from pandas->ccrvam) (2025.1)\n",
      "Requirement already satisfied: iniconfig in /Users/dhyeymavani/.pyenv/versions/3.13.0/lib/python3.13/site-packages (from pytest->ccrvam) (2.0.0)\n",
      "Requirement already satisfied: pluggy<2,>=1.5 in /Users/dhyeymavani/.pyenv/versions/3.13.0/lib/python3.13/site-packages (from pytest->ccrvam) (1.5.0)\n",
      "Requirement already satisfied: six>=1.5 in /Users/dhyeymavani/.pyenv/versions/3.13.0/lib/python3.13/site-packages (from python-dateutil>=2.7->matplotlib->ccrvam) (1.17.0)\n",
      "Note: you may need to restart the kernel to use updated packages.\n"
     ]
    }
   ],
   "source": [
    "%pip install ccrvam"
   ]
  },
  {
   "cell_type": "markdown",
   "metadata": {
    "id": "60XA0DH1rxLE"
   },
   "source": [
    "> Make sure to have ccrvam's latest version installed using `pip`. More information about the latest version can be found at https://pypi.org/project/ccrvam/"
   ]
  },
  {
   "cell_type": "markdown",
   "metadata": {},
   "source": [
    "Run the following upgrade commands on your terminal if you are facing issues related to `pip` or `scipy`\n",
    "\n",
    "```\n",
    "# pip install --upgrade pip\n",
    "# pip install --upgrade scipy\n",
    "```"
   ]
  },
  {
   "cell_type": "code",
   "execution_count": 2,
   "metadata": {
    "id": "m83NAn8msA3i"
   },
   "outputs": [],
   "source": [
    "import numpy as np\n",
    "from ccrvam import GenericCCRVAM, DataProcessor"
   ]
  },
  {
   "cell_type": "markdown",
   "metadata": {},
   "source": [
    "# 2-Dimensional Case "
   ]
  },
  {
   "cell_type": "markdown",
   "metadata": {
    "id": "MN4xT6NCtGX7"
   },
   "source": [
    "### Create Sample Contingency Table and Initialize the GenericCCRVAM"
   ]
  },
  {
   "cell_type": "markdown",
   "metadata": {},
   "source": [
    "The `GenericCCRVAM` object can be initialized with a contingency table represented as a NumPy array. For a 2D contingency table:\n",
    "\n",
    "- `axis=0`: First variable ($X_1$) with 5 categories\n",
    "- `axis=1`: Second variable ($X_2$) with 3 categories\n",
    "\n",
    "The axis indexing follows NumPy's convention, starting from the outermost dimension. The variables are ordered such that:\n",
    "\n",
    "- $X_1$ corresponds to (rows)\n",
    "- $X_2$ corresponds to (columns)\n",
    "\n",
    "This ordering is important for calculating measures of regression association between two variables."
   ]
  },
  {
   "cell_type": "code",
   "execution_count": 3,
   "metadata": {
    "colab": {
     "base_uri": "https://localhost:8080/"
    },
    "id": "01yuLPR8tRy3",
    "outputId": "e90fd3a8-f27f-4787-e680-e2df60456c5c"
   },
   "outputs": [
    {
     "name": "stdout",
     "output_type": "stream",
     "text": [
      "Dimension of the inferred joint probability matrix P: (5, 3)\n",
      "Joint Probability matrix P:\n",
      "[[0.    0.    0.25 ]\n",
      " [0.    0.125 0.   ]\n",
      " [0.25  0.    0.   ]\n",
      " [0.    0.125 0.   ]\n",
      " [0.    0.    0.25 ]]\n"
     ]
    }
   ],
   "source": [
    "contingency_table = np.array([\n",
    "    [0, 0, 20],\n",
    "    [0, 10, 0],\n",
    "    [20, 0, 0],\n",
    "    [0, 10, 0],\n",
    "    [0, 0, 20]\n",
    "])\n",
    "\n",
    "ccrvam_2d = GenericCCRVAM.from_contingency_table(contingency_table)\n",
    "print(f\"Dimension of the inferred joint probability matrix P: {ccrvam_2d.P.shape}\")\n",
    "print(f\"Joint Probability matrix P:\\n{ccrvam_2d.P}\")"
   ]
  },
  {
   "cell_type": "markdown",
   "metadata": {},
   "source": [
    "### Calculating the Checkerboard Copula Scores (CCS) and their Variances"
   ]
  },
  {
   "cell_type": "code",
   "execution_count": 4,
   "metadata": {},
   "outputs": [
    {
     "name": "stdout",
     "output_type": "stream",
     "text": [
      "Checkerboard Copula Scores (CCS) for X1:\n",
      "[np.float64(0.125), np.float64(0.3125), np.float64(0.5), np.float64(0.6875), np.float64(0.875)]\n",
      "\n",
      "Checkerboard Copula Scores (CCS) for X2:\n",
      "[np.float64(0.125), np.float64(0.375), np.float64(0.75)]\n",
      "\n",
      "Variance of Checkerboard Copula Scores (CCS) for X1: 0.0791015625\n",
      "Variance of Checkerboard Copula Scores (CCS) for X2: 0.0703125\n"
     ]
    }
   ],
   "source": [
    "# Calculate and display scores for both variables\n",
    "scores_X1 = ccrvam_2d.calculate_ccs(1)\n",
    "scores_X2 = ccrvam_2d.calculate_ccs(2)\n",
    "\n",
    "print(\"Checkerboard Copula Scores (CCS) for X1:\")\n",
    "print(scores_X1)\n",
    "# Expected: [0.125, 0.3125, 0.5, 0.6875, 0.875]\n",
    "\n",
    "print(\"\\nCheckerboard Copula Scores (CCS) for X2:\")\n",
    "print(scores_X2)\n",
    "# Expected: [0.125, 0.375, 0.75]\n",
    "\n",
    "# Calculate and display variance of scores\n",
    "variance_ccs_X1 = ccrvam_2d.calculate_variance_ccs(1)\n",
    "variance_ccs_X2 = ccrvam_2d.calculate_variance_ccs(2)\n",
    "\n",
    "print(\"\\nVariance of Checkerboard Copula Scores (CCS) for X1:\", variance_ccs_X1)\n",
    "# Expected: 81/1024 = 0.0791015625\n",
    "print(\"Variance of Checkerboard Copula Scores (CCS) for X2:\", variance_ccs_X2)\n",
    "# Expected: 9/128 = 0.0703125 "
   ]
  },
  {
   "cell_type": "markdown",
   "metadata": {},
   "source": [
    "### Category Prediction Using Checkerboard Copula Regression (CCR)\n",
    "\n",
    "We can use the Checkerboard Copula Regression (CCR) for predicting the category of the ordinal response variable for each combination of categories of predictors. The `get_category_predictions_ccr()` method:\n",
    "\n",
    "- Predicts the categories of response variable (to be passed in as `response` input argument) given predictor values (to be listed in `predictors` input argument)\n",
    "- Returns predictions in an easy-to-read DataFrame format\n",
    "- Supports custom variable names for better interpretation (Optional)"
   ]
  },
  {
   "cell_type": "code",
   "execution_count": 5,
   "metadata": {
    "colab": {
     "base_uri": "https://localhost:8080/"
    },
    "id": "wDI1ud2hv-d7",
    "outputId": "6bab13ec-37d6-4268-f038-59890b9eb332"
   },
   "outputs": [
    {
     "name": "stdout",
     "output_type": "stream",
     "text": [
      "\n",
      "Predictions from X1 to X2:\n",
      "   X1 Category  Predicted X2 Category\n",
      "0            1                      3\n",
      "1            2                      2\n",
      "2            3                      1\n",
      "3            4                      2\n",
      "4            5                      3\n",
      "\n",
      "Predictions from Education Level to Income Bracket:\n",
      "   Education Level Category  Predicted Income Bracket Category\n",
      "0                         1                                  3\n",
      "1                         2                                  3\n",
      "2                         3                                  3\n"
     ]
    }
   ],
   "source": [
    "predictions_X1_to_X2 = ccrvam_2d.get_predictions_ccr(predictors=[1], response=2)\n",
    "print(\"\\nPredictions from X1 to X2:\")\n",
    "print(predictions_X1_to_X2)\n",
    "\n",
    "# Example: Showcasing the use of custom variable names for the output\n",
    "variable_to_name_dict = {1: \"Income Bracket\", 2: \"Education Level\"}\n",
    "predictions_Education_to_Income = ccrvam_2d.get_predictions_ccr(predictors=[2], response=1, variable_names=variable_to_name_dict)\n",
    "print(\"\\nPredictions from Education Level to Income Bracket:\")\n",
    "print(predictions_Education_to_Income)"
   ]
  },
  {
   "cell_type": "markdown",
   "metadata": {
    "id": "W3a_y_pJt5te"
   },
   "source": [
    "### Calculating CCRAM & SCCRAM"
   ]
  },
  {
   "cell_type": "markdown",
   "metadata": {},
   "source": [
    "The CCRAM (Checkerboard Copula Regression Association Measure) allows us to quantify the regression relationship between an ordinal response variable and a set of categorical predictors. In our example:\n",
    "\n",
    "- (Default) Variables: $X_1$ (rows) and $X_2$ (columns)\n",
    "- X1 to X2 ($X_1 \\rightarrow X_2$) measures how much X1 (to be listed in `predictors` input argument) explains the variation in X2 (to be passed in as `response` input argument) \n",
    "- Scaled version (SCCRAM) normalizes the CCRAM for properly assessing the magnitude of regression association  by taking into account the upperbound of the CCRAM. "
   ]
  },
  {
   "cell_type": "code",
   "execution_count": 6,
   "metadata": {
    "colab": {
     "base_uri": "https://localhost:8080/"
    },
    "id": "c_sywsi-uEsR",
    "outputId": "5c14de61-672e-40b9-d888-4b54e7604f11"
   },
   "outputs": [
    {
     "name": "stdout",
     "output_type": "stream",
     "text": [
      "CCRAM X1 to X2: 0.8438\n",
      "CCRAM X2 to X1: 0.0000\n",
      "SCCRAM X1 to X2: 1.0000\n",
      "SCCRAM X2 to X1: 0.0000\n"
     ]
    }
   ],
   "source": [
    "ccram_X1_to_X2 = ccrvam_2d.calculate_CCRAM(predictors=[1], response=2)\n",
    "ccram_X2_to_X1 = ccrvam_2d.calculate_CCRAM(predictors=[2], response=1)\n",
    "print(f\"CCRAM X1 to X2: {ccram_X1_to_X2:.4f}\")\n",
    "print(f\"CCRAM X2 to X1: {ccram_X2_to_X1:.4f}\")\n",
    "\n",
    "sccram_X1_to_X2 = ccrvam_2d.calculate_CCRAM(predictors=[1], response=2, scaled=True)\n",
    "sccram_X2_to_X1 = ccrvam_2d.calculate_CCRAM(predictors=[2], response=1, scaled=True)\n",
    "print(f\"SCCRAM X1 to X2: {sccram_X1_to_X2:.4f}\")\n",
    "print(f\"SCCRAM X2 to X1: {sccram_X2_to_X1:.4f}\")"
   ]
  },
  {
   "cell_type": "markdown",
   "metadata": {},
   "source": [
    "# 4-Dimensional Case (Real Data Analysis)"
   ]
  },
  {
   "cell_type": "markdown",
   "metadata": {},
   "source": [
    "### Load the data in three types of form (case form, frequency form and table form) and Initialize the GenericCCRVAM"
   ]
  },
  {
   "cell_type": "markdown",
   "metadata": {},
   "source": [
    "This example demonstrates how one can analyze relationships between multiple categorical variables in a clinical dataset of back pain treatments using the GenericCCRVAM object.\n",
    "\n",
    "The dataset contains 4 categorical variables from a medical study:\n",
    "\n",
    "| Variable | Description | Categories |\n",
    "|----------|-------------|------------|\n",
    "| X₁ | Length of Previous Attack | 1=Short, 2=Long |\n",
    "| X₂ | Pain Change | 1=Better, 2=Same, 3=Worse |\n",
    "| X₃ | Lordosis | 1=Absent/Decreasing, 2=Present/Increasing |\n",
    "| Pain | Back Pain Outcome | worse (W)=1, same (S)=2, slight.improvement (SI)=3, moderate.improvement (MODI)=4, marked.improvement (MARI)=5, complete.relief (CR)=6 |\n",
    "\n",
    "1. Define variable names, and dimension tuple (the number of categores of each variable according to the order of the variables defined) \n",
    "2. (Optional) If your data has any variables with category names that are not integers, then create a category mapping for non-integer categories (for instance, required for 'pain' variable in the above dataset)\n",
    "3. Load case-form/freq-form data from file (from path provided as an argument) or type table-form with proper mappings into a contingency table\n",
    "4. Initialize GenericCCRVAM object from contingency table\n",
    "5. Extract and print:\n",
    "   - Joint probability matrix P\n",
    "   - Marginal probability distributions\n",
    "   - Marginal cumulative distributions  \n",
    "   - Conditional probability distributions"
   ]
  },
  {
   "cell_type": "markdown",
   "metadata": {},
   "source": [
    "Citation for the above dataset:\n",
    "- J. A. Anderson, Regression and ordered categorical variables, Journal of the Royal Statistical Society: Series B (Methodological) 46 (1984)\n",
    "1–22."
   ]
  },
  {
   "cell_type": "code",
   "execution_count": 7,
   "metadata": {},
   "outputs": [
    {
     "name": "stdout",
     "output_type": "stream",
     "text": [
      "Read contingency table from case form data:\n",
      "Dimension of the inferred joint probability matrix P: (2, 3, 2, 6)\n",
      "Joint Probability matrix P:\n",
      "[[[[0.         0.00990099 0.         0.         0.01980198 0.03960396]\n",
      "   [0.         0.         0.         0.00990099 0.02970297 0.        ]]\n",
      "\n",
      "  [[0.         0.01980198 0.02970297 0.         0.05940594 0.03960396]\n",
      "   [0.         0.00990099 0.         0.01980198 0.         0.00990099]]\n",
      "\n",
      "  [[0.         0.         0.         0.         0.01980198 0.01980198]\n",
      "   [0.         0.         0.00990099 0.00990099 0.02970297 0.        ]]]\n",
      "\n",
      "\n",
      " [[[0.         0.         0.02970297 0.         0.00990099 0.01980198]\n",
      "   [0.         0.00990099 0.         0.         0.02970297 0.        ]]\n",
      "\n",
      "  [[0.         0.02970297 0.03960396 0.04950495 0.05940594 0.01980198]\n",
      "   [0.00990099 0.03960396 0.03960396 0.02970297 0.         0.00990099]]\n",
      "\n",
      "  [[0.01980198 0.01980198 0.00990099 0.04950495 0.01980198 0.        ]\n",
      "   [0.01980198 0.         0.01980198 0.02970297 0.         0.        ]]]]\n",
      "\n"
     ]
    }
   ],
   "source": [
    "var_list_4d = [\"x1\", \"x2\", \"x3\", \"pain\"]\n",
    "category_map_4d = {\n",
    "    \"pain\": {\n",
    "        \"worse\": 1,\n",
    "        \"same\": 2,\n",
    "        \"slight.improvement\": 3,\n",
    "        \"moderate.improvement\": 4,\n",
    "        \"marked.improvement\": 5,\n",
    "        \"complete.relief\": 6\n",
    "    },\n",
    "}\n",
    "data_dimension = (2, 3, 2, 6)\n",
    "contingency_table_4d = DataProcessor.load_data(\n",
    "                        \"./data/caseform.pain.txt\",\n",
    "                        data_form=\"case_form\",\n",
    "                        dimension=data_dimension,\n",
    "                        var_list=var_list_4d,\n",
    "                        category_map=category_map_4d,\n",
    "                        named=True,\n",
    "                        delimiter=\"\\t\"\n",
    "                    )\n",
    "print(\"Read contingency table from case form data:\")\n",
    "rda_ccrvam = GenericCCRVAM.from_contingency_table(contingency_table_4d)\n",
    "print(f\"Dimension of the inferred joint probability matrix P: {rda_ccrvam.P.shape}\")\n",
    "print(f\"Joint Probability matrix P:\\n{rda_ccrvam.P}\\n\")"
   ]
  },
  {
   "cell_type": "code",
   "execution_count": 8,
   "metadata": {},
   "outputs": [
    {
     "name": "stdout",
     "output_type": "stream",
     "text": [
      "Read contingency table from freq form data:\n",
      "Dimension of the inferred joint probability matrix P: (2, 3, 2, 6)\n",
      "Joint Probability matrix P:\n",
      "[[[[0.         0.00990099 0.         0.         0.01980198 0.03960396]\n",
      "   [0.         0.         0.         0.00990099 0.02970297 0.        ]]\n",
      "\n",
      "  [[0.         0.01980198 0.02970297 0.         0.05940594 0.03960396]\n",
      "   [0.         0.00990099 0.         0.01980198 0.         0.00990099]]\n",
      "\n",
      "  [[0.         0.         0.         0.         0.01980198 0.01980198]\n",
      "   [0.         0.         0.00990099 0.00990099 0.02970297 0.        ]]]\n",
      "\n",
      "\n",
      " [[[0.         0.         0.02970297 0.         0.00990099 0.01980198]\n",
      "   [0.         0.00990099 0.         0.         0.02970297 0.        ]]\n",
      "\n",
      "  [[0.         0.02970297 0.03960396 0.04950495 0.05940594 0.01980198]\n",
      "   [0.00990099 0.03960396 0.03960396 0.02970297 0.         0.00990099]]\n",
      "\n",
      "  [[0.01980198 0.01980198 0.00990099 0.04950495 0.01980198 0.        ]\n",
      "   [0.01980198 0.         0.01980198 0.02970297 0.         0.        ]]]]\n",
      "\n"
     ]
    }
   ],
   "source": [
    "contingency_table_4d_from_freq = DataProcessor.load_data(\n",
    "                        \"./data/freqform.pain.txt\",\n",
    "                        data_form=\"frequency_form\",\n",
    "                        dimension=data_dimension,\n",
    "                        var_list=var_list_4d,\n",
    "                        category_map=category_map_4d,\n",
    "                        named=True,\n",
    "                        delimiter=\"\\t\"\n",
    "                    )\n",
    "print(\"Read contingency table from freq form data:\")\n",
    "rda_ccrvam_from_freq = GenericCCRVAM.from_contingency_table(contingency_table_4d_from_freq)\n",
    "print(f\"Dimension of the inferred joint probability matrix P: {rda_ccrvam_from_freq.P.shape}\")\n",
    "print(f\"Joint Probability matrix P:\\n{rda_ccrvam_from_freq.P}\\n\")"
   ]
  },
  {
   "cell_type": "markdown",
   "metadata": {},
   "source": [
    "If you are interested in logging in the data in contingency table format, then that can be done as follows. The 4-dimensional contingency table represents counts for combinations of categories of each of 4 variables:\n",
    "\n",
    "The dimension of the table is (2,3,2,6) corresponding to the number of categories for each variable according to the order of the variables defined in `var_list_4d`. The innermost arrays contain counts for the 6 possible back pain outcomes, and are nested within the structure for the other variables.\n",
    "\n",
    "Here's how to understand the array structure:\n",
    "\n",
    "```python\n",
    "# The table is structured as a 4D numpy array with table dimension (2,3,2,6)\n",
    "table = np.array([\n",
    "    # First level: X₁=1 (Short)\n",
    "    [\n",
    "        # Second level: X₂=1 (Better)\n",
    "        [\n",
    "            # Third level: X₃=1 (Absent)\n",
    "            [0,1,0,0,2,4],  # Fourth level: Counts for each X₄ outcome\n",
    "            # Third level: X₃=2 (Present) \n",
    "            [0,0,0,1,3,0]\n",
    "        ],\n",
    "        # Second level: X₂=2 (Same)\n",
    "        [...],\n",
    "        # Second level: X₂=3 (Worse) \n",
    "        [...]\n",
    "    ],\n",
    "    # First level: X₁=2 (Long)\n",
    "    [...]\n",
    "])\n",
    "```\n",
    "\n",
    "We demonstrate how to load the data using contingency table as input below:"
   ]
  },
  {
   "cell_type": "code",
   "execution_count": 9,
   "metadata": {},
   "outputs": [
    {
     "name": "stdout",
     "output_type": "stream",
     "text": [
      "Read contingency table from table form data:\n",
      "Dimension of the inferred joint probability matrix P: (2, 3, 2, 6)\n",
      "Joint Probability matrix P:\n",
      "[[[[0.         0.00990099 0.         0.         0.01980198 0.03960396]\n",
      "   [0.         0.         0.         0.00990099 0.02970297 0.        ]]\n",
      "\n",
      "  [[0.         0.01980198 0.02970297 0.         0.05940594 0.03960396]\n",
      "   [0.         0.00990099 0.         0.01980198 0.         0.00990099]]\n",
      "\n",
      "  [[0.         0.         0.         0.         0.01980198 0.01980198]\n",
      "   [0.         0.         0.00990099 0.00990099 0.02970297 0.        ]]]\n",
      "\n",
      "\n",
      " [[[0.         0.         0.02970297 0.         0.00990099 0.01980198]\n",
      "   [0.         0.00990099 0.         0.         0.02970297 0.        ]]\n",
      "\n",
      "  [[0.         0.02970297 0.03960396 0.04950495 0.05940594 0.01980198]\n",
      "   [0.00990099 0.03960396 0.03960396 0.02970297 0.         0.00990099]]\n",
      "\n",
      "  [[0.01980198 0.01980198 0.00990099 0.04950495 0.01980198 0.        ]\n",
      "   [0.01980198 0.         0.01980198 0.02970297 0.         0.        ]]]]\n",
      "\n"
     ]
    }
   ],
   "source": [
    "table = np.array([[[[0, 1, 0, 0, 2, 4],\n",
    "                    [0, 0, 0, 1, 3, 0]],\n",
    "                    [[0, 2, 3, 0, 6, 4],\n",
    "                    [0, 1, 0, 2, 0, 1]],\n",
    "                    [[0, 0, 0, 0, 2, 2],\n",
    "                    [0, 0, 1, 1, 3, 0]]],\n",
    "                    [[[0, 0, 3, 0, 1, 2],\n",
    "                    [0, 1, 0, 0, 3, 0]],\n",
    "                    [[0, 3, 4, 5, 6, 2],\n",
    "                    [1, 4, 4, 3, 0, 1]],\n",
    "                    [[2, 2, 1, 5, 2, 0],\n",
    "                    [2, 0, 2, 3, 0, 0]]]])\n",
    "contingency_table_4d_from_array = DataProcessor.load_data(\n",
    "                        table,\n",
    "                        data_form=\"table_form\",\n",
    "                        dimension=data_dimension,\n",
    "                        var_list=var_list_4d,\n",
    "                        category_map=category_map_4d,\n",
    "                    )\n",
    "print(\"Read contingency table from table form data:\")\n",
    "rda_ccrvam_from_array = GenericCCRVAM.from_contingency_table(contingency_table_4d_from_array)\n",
    "print(f\"Dimension of the inferred joint probability matrix P: {rda_ccrvam_from_array.P.shape}\")\n",
    "print(f\"Joint Probability matrix P:\\n{rda_ccrvam_from_array.P}\\n\")"
   ]
  },
  {
   "cell_type": "code",
   "execution_count": 10,
   "metadata": {},
   "outputs": [
    {
     "name": "stdout",
     "output_type": "stream",
     "text": [
      "Marginal pdfs:\n",
      "Case-form Marginal pdf for x1: [0.38613861 0.61386139]\n",
      "Case-form Marginal pdf for x2: [0.20792079 0.51485149 0.27722772]\n",
      "Case-form Marginal pdf for x3: [0.63366337 0.36633663]\n",
      "Case-form Marginal pdf for pain: [0.04950495 0.13861386 0.17821782 0.1980198  0.27722772 0.15841584]\n",
      "\n",
      "Marginal cdfs:\n",
      "Case-form Marginal cdf for x1: [0.         0.38613861 1.        ]\n",
      "Case-form Marginal cdf for x2: [0.         0.20792079 0.72277228 1.        ]\n",
      "Case-form Marginal cdf for x3: [0.         0.63366337 1.        ]\n",
      "Case-form Marginal cdf for pain: [0.         0.04950495 0.18811881 0.36633663 0.56435644 0.84158416\n",
      " 1.        ]\n"
     ]
    }
   ],
   "source": [
    "print(\"Marginal pdfs:\")\n",
    "for idx, marginal_pdf in rda_ccrvam.marginal_pdfs.items():\n",
    "    print(f\"Case-form Marginal pdf for {var_list_4d[idx]}: {marginal_pdf}\")\n",
    "\n",
    "print(\"\\nMarginal cdfs:\")\n",
    "for idx, marginal_cdf in rda_ccrvam.marginal_cdfs.items():\n",
    "    print(f\"Case-form Marginal cdf for {var_list_4d[idx]}: {marginal_cdf}\")"
   ]
  },
  {
   "cell_type": "markdown",
   "metadata": {},
   "source": [
    "### Calculating Checkerboard Copula Scores (CCS) and their Variances"
   ]
  },
  {
   "cell_type": "code",
   "execution_count": 12,
   "metadata": {},
   "outputs": [
    {
     "name": "stdout",
     "output_type": "stream",
     "text": [
      "Checkerboard Copula Scores (CCS) for X1:\n",
      "[np.float64(0.19306930693069307), np.float64(0.693069306930693)]\n",
      "\n",
      "Checkerboard Copula Scores (CCS) for X2:\n",
      "[np.float64(0.10396039603960396), np.float64(0.4653465346534653), np.float64(0.8613861386138614)]\n",
      "\n",
      "Checkerboard Copula Scores (CCS) for X3:\n",
      "[np.float64(0.31683168316831684), np.float64(0.8168316831683169)]\n",
      "\n",
      "Checkerboard Copula Scores (CCS) for Pain:\n",
      "[np.float64(0.024752475247524754), np.float64(0.1188118811881188), np.float64(0.27722772277227725), np.float64(0.4653465346534653), np.float64(0.7029702970297029), np.float64(0.9207920792079207)]\n",
      "\n",
      "Variance of Checkerboard Copula scores (CCS) for X1: 0.059258896186648376\n",
      "\n",
      "Variance of Checkerboard Copula scores (CCS) for X2: 0.06943601918274368\n",
      "\n",
      "Variance of Checkerboard Copula scores (CCS) for X3: 0.058033526124889726\n",
      "\n",
      "Variance of Checkerboard Copula scores (CCS) for Pain: 0.07987568681385343\n"
     ]
    }
   ],
   "source": [
    "rda_scores_X1 = rda_ccrvam.calculate_ccs(1)\n",
    "rda_scores_X2 = rda_ccrvam.calculate_ccs(2)\n",
    "rda_scores_X3 = rda_ccrvam.calculate_ccs(3)\n",
    "rda_scores_pain = rda_ccrvam.calculate_ccs(4)\n",
    "\n",
    "print(\"Checkerboard Copula Scores (CCS) for X1:\")\n",
    "print(rda_scores_X1)\n",
    "print(\"\\nCheckerboard Copula Scores (CCS) for X2:\")\n",
    "print(rda_scores_X2)\n",
    "print(\"\\nCheckerboard Copula Scores (CCS) for X3:\")\n",
    "print(rda_scores_X3)\n",
    "print(\"\\nCheckerboard Copula Scores (CCS) for Pain:\")\n",
    "print(rda_scores_pain)\n",
    "\n",
    "# Calculate and display variance of scores\n",
    "rda_variance_ccs_X1 = rda_ccrvam.calculate_variance_ccs(1)\n",
    "rda_variance_ccs_X2 = rda_ccrvam.calculate_variance_ccs(2)\n",
    "rda_variance_ccs_X3 = rda_ccrvam.calculate_variance_ccs(3)\n",
    "rda_variance_ccs_pain = rda_ccrvam.calculate_variance_ccs(4)\n",
    "\n",
    "print(\"\\nVariance of Checkerboard Copula scores (CCS) for X1:\", rda_variance_ccs_X1)\n",
    "print(\"\\nVariance of Checkerboard Copula scores (CCS) for X2:\", rda_variance_ccs_X2)\n",
    "print(\"\\nVariance of Checkerboard Copula scores (CCS) for X3:\", rda_variance_ccs_X3)\n",
    "print(\"\\nVariance of Checkerboard Copula scores (CCS) for Pain:\", rda_variance_ccs_pain)\n",
    "# Expected 12 * (variance of Checkerboard Copula scores for Pain): 0.07987568681385342*12 = 0.95850824176"
   ]
  },
  {
   "cell_type": "markdown",
   "metadata": {},
   "source": [
    "### Category Prediction Using Checkerboard Copula Regression (CCR)\n",
    "\n",
    "We can use the Checkerboard Copula Regression (CCR) for predicting the category of the ordinal response variable for each combination of categories of predictors. The `get_category_predictions_ccr()` method:\n",
    "\n",
    "- Predicts the categories of response variable (to be passed in as `response` input argument) given predictor values (to be listed in `predictors` input argument)\n",
    "- Returns predictions in an easy-to-read DataFrame format\n",
    "- Supports custom variable names for better interpretation (Optional)"
   ]
  },
  {
   "cell_type": "code",
   "execution_count": null,
   "metadata": {},
   "outputs": [
    {
     "name": "stdout",
     "output_type": "stream",
     "text": [
      "\n",
      "Predictions from X1, X2, X3 to X4 (default naming scheme):\n",
      "    X1 Category  X2 Category  X3 Category  Predicted X4 Category\n",
      "0             1            1            1                      5\n",
      "1             1            1            2                      5\n",
      "2             1            2            1                      5\n",
      "3             1            2            2                      4\n",
      "4             1            3            1                      5\n",
      "5             1            3            2                      5\n",
      "6             2            1            1                      4\n",
      "7             2            1            2                      4\n",
      "8             2            2            1                      4\n",
      "9             2            2            2                      3\n",
      "10            2            3            1                      3\n",
      "11            2            3            2                      3\n",
      "\n",
      "Predictions from Length of Previous Attack, Pain Change, Lordosis to Back Pain:\n"
     ]
    },
    {
     "data": {
      "text/html": [
       "<div>\n",
       "<style scoped>\n",
       "    .dataframe tbody tr th:only-of-type {\n",
       "        vertical-align: middle;\n",
       "    }\n",
       "\n",
       "    .dataframe tbody tr th {\n",
       "        vertical-align: top;\n",
       "    }\n",
       "\n",
       "    .dataframe thead th {\n",
       "        text-align: right;\n",
       "    }\n",
       "</style>\n",
       "<table border=\"1\" class=\"dataframe\">\n",
       "  <thead>\n",
       "    <tr style=\"text-align: right;\">\n",
       "      <th></th>\n",
       "      <th>Length of Previous Attack Category</th>\n",
       "      <th>Pain Change Category</th>\n",
       "      <th>Lordosis Category</th>\n",
       "      <th>Predicted Back Pain Category</th>\n",
       "    </tr>\n",
       "  </thead>\n",
       "  <tbody>\n",
       "    <tr>\n",
       "      <th>0</th>\n",
       "      <td>1</td>\n",
       "      <td>1</td>\n",
       "      <td>1</td>\n",
       "      <td>5</td>\n",
       "    </tr>\n",
       "    <tr>\n",
       "      <th>1</th>\n",
       "      <td>1</td>\n",
       "      <td>1</td>\n",
       "      <td>2</td>\n",
       "      <td>5</td>\n",
       "    </tr>\n",
       "    <tr>\n",
       "      <th>2</th>\n",
       "      <td>1</td>\n",
       "      <td>2</td>\n",
       "      <td>1</td>\n",
       "      <td>5</td>\n",
       "    </tr>\n",
       "    <tr>\n",
       "      <th>3</th>\n",
       "      <td>1</td>\n",
       "      <td>2</td>\n",
       "      <td>2</td>\n",
       "      <td>4</td>\n",
       "    </tr>\n",
       "    <tr>\n",
       "      <th>4</th>\n",
       "      <td>1</td>\n",
       "      <td>3</td>\n",
       "      <td>1</td>\n",
       "      <td>5</td>\n",
       "    </tr>\n",
       "    <tr>\n",
       "      <th>5</th>\n",
       "      <td>1</td>\n",
       "      <td>3</td>\n",
       "      <td>2</td>\n",
       "      <td>5</td>\n",
       "    </tr>\n",
       "    <tr>\n",
       "      <th>6</th>\n",
       "      <td>2</td>\n",
       "      <td>1</td>\n",
       "      <td>1</td>\n",
       "      <td>4</td>\n",
       "    </tr>\n",
       "    <tr>\n",
       "      <th>7</th>\n",
       "      <td>2</td>\n",
       "      <td>1</td>\n",
       "      <td>2</td>\n",
       "      <td>4</td>\n",
       "    </tr>\n",
       "    <tr>\n",
       "      <th>8</th>\n",
       "      <td>2</td>\n",
       "      <td>2</td>\n",
       "      <td>1</td>\n",
       "      <td>4</td>\n",
       "    </tr>\n",
       "    <tr>\n",
       "      <th>9</th>\n",
       "      <td>2</td>\n",
       "      <td>2</td>\n",
       "      <td>2</td>\n",
       "      <td>3</td>\n",
       "    </tr>\n",
       "    <tr>\n",
       "      <th>10</th>\n",
       "      <td>2</td>\n",
       "      <td>3</td>\n",
       "      <td>1</td>\n",
       "      <td>3</td>\n",
       "    </tr>\n",
       "    <tr>\n",
       "      <th>11</th>\n",
       "      <td>2</td>\n",
       "      <td>3</td>\n",
       "      <td>2</td>\n",
       "      <td>3</td>\n",
       "    </tr>\n",
       "  </tbody>\n",
       "</table>\n",
       "</div>"
      ],
      "text/plain": [
       "    Length of Previous Attack Category  Pain Change Category  \\\n",
       "0                                    1                     1   \n",
       "1                                    1                     1   \n",
       "2                                    1                     2   \n",
       "3                                    1                     2   \n",
       "4                                    1                     3   \n",
       "5                                    1                     3   \n",
       "6                                    2                     1   \n",
       "7                                    2                     1   \n",
       "8                                    2                     2   \n",
       "9                                    2                     2   \n",
       "10                                   2                     3   \n",
       "11                                   2                     3   \n",
       "\n",
       "    Lordosis Category  Predicted Back Pain Category  \n",
       "0                   1                             5  \n",
       "1                   2                             5  \n",
       "2                   1                             5  \n",
       "3                   2                             4  \n",
       "4                   1                             5  \n",
       "5                   2                             5  \n",
       "6                   1                             4  \n",
       "7                   2                             4  \n",
       "8                   1                             4  \n",
       "9                   2                             3  \n",
       "10                  1                             3  \n",
       "11                  2                             3  "
      ]
     },
     "execution_count": 15,
     "metadata": {},
     "output_type": "execute_result"
    }
   ],
   "source": [
    "rda_predictions_with_default_naming = rda_ccrvam.get_predictions_ccr(predictors=[1, 2, 3], response=4)\n",
    "print(\"\\nPredictions from X1, X2, X3 to Pain:\")\n",
    "print(rda_predictions_with_default_naming)\n",
    "\n",
    "rda_variable_to_name_dict = {1: \"Length of Previous Attack\", 2: \"Pain Change\", 3: \"Lordosis\", 4: \"Back Pain\"}\n",
    "rda_predictions_X1_X2_X3_to_Pain_named = rda_ccrvam.get_predictions_ccr(predictors=[1, 2, 3], response=4, variable_names=rda_variable_to_name_dict)\n",
    "print(\"\\nPredictions from Length of Previous Attack, Pain Change, Lordosis to Back Pain:\")\n",
    "rda_predictions_X1_X2_X3_to_Pain_named"
   ]
  },
  {
   "cell_type": "markdown",
   "metadata": {},
   "source": [
    "### Heatmap Representations of the Category Prediction"
   ]
  },
  {
   "cell_type": "code",
   "execution_count": 17,
   "metadata": {},
   "outputs": [
    {
     "data": {
      "image/png": "[encoded data removed]",
      "text/plain": [
       "<Figure size 800x600 with 1 Axes>"
      ]
     },
     "execution_count": 17,
     "metadata": {},
     "output_type": "execute_result"
    }
   ],
   "source": [
    "# Plotting with default naming scheme\n",
    "rda_ccrvam.plot_ccr_predictions(predictors=[1,2,3], response=4)"
   ]
  },
  {
   "cell_type": "code",
   "execution_count": 18,
   "metadata": {},
   "outputs": [
    {
     "data": {
      "image/png": "[encoded data removed]",
      "text/plain": [
       "<Figure size 800x600 with 1 Axes>"
      ]
     },
     "execution_count": 18,
     "metadata": {},
     "output_type": "execute_result"
    }
   ],
   "source": [
    "# Plotting with custom naming scheme inputted by user\n",
    "var_names={1:\"Length\", 2:\"Pain Change\", 3:\"Lordosis\", 4:\"Back Pain\"}\n",
    "rda_ccrvam.plot_ccr_predictions(predictors=[1,2,3], response=4, variable_names=var_names)"
   ]
  },
  {
   "cell_type": "markdown",
   "metadata": {},
   "source": [
    "### Calculating CCRAM & SCCRAM"
   ]
  },
  {
   "cell_type": "markdown",
   "metadata": {},
   "source": [
    "The CCRAM (Checkerboard Copula Regression Association Measure) allows us to quantify the regression relationship between an ordinal response variable and a set of categorical predictors. In our example:\n",
    "\n",
    "- Variables: $X_1$, $X_2$, $X_3$, Pain.\n",
    "- (X1, X2, X3) to Pain ($(X_1, X_2, X_3) \\rightarrow Pain$) measures how much (X1, X2, X3) (to be listed in `predictors` input argument) explain the variation in Pain (to be passed in as `response` input argument) \n",
    "- Scaled version (SCCRAM) normalizes the CCRAM for properly assessing the magnitude of regression association  by taking into account the upperbound of the CCRAM. "
   ]
  },
  {
   "cell_type": "code",
   "execution_count": 19,
   "metadata": {},
   "outputs": [
    {
     "name": "stdout",
     "output_type": "stream",
     "text": [
      "CCRAM from (X1, X2, X3) to Pain: 0.2576\n",
      "SCCRAM from (X1, X2, X3) to Pain: 0.2687\n"
     ]
    }
   ],
   "source": [
    "rda_ccram_X1_X2_X3_to_Pain = rda_ccrvam.calculate_CCRAM(predictors=[1, 2, 3], response=4)\n",
    "print(f\"CCRAM from (X1, X2, X3) to Pain: {rda_ccram_X1_X2_X3_to_Pain:.4f}\")\n",
    "\n",
    "rda_sccram_X1_X2_X3_to_X4 = rda_ccrvam.calculate_CCRAM(predictors=[1, 2, 3], response=4, scaled=True)\n",
    "print(f\"SCCRAM from (X1, X2, X3) to Pain: {rda_sccram_X1_X2_X3_to_X4:.4f}\")"
   ]
  }
 ],
 "metadata": {
  "colab": {
   "provenance": []
  },
  "kernelspec": {
   "display_name": "3.13.0",
   "language": "python",
   "name": "python3"
  },
  "language_info": {
   "codemirror_mode": {
    "name": "ipython",
    "version": 3
   },
   "file_extension": ".py",
   "mimetype": "text/x-python",
   "name": "python",
   "nbconvert_exporter": "python",
   "pygments_lexer": "ipython3",
   "version": "3.13.0"
  }
 },
 "nbformat": 4,
 "nbformat_minor": 0
}
